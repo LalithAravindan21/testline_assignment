{
  "nbformat": 4,
  "nbformat_minor": 0,
  "metadata": {
    "colab": {
      "provenance": []
    },
    "kernelspec": {
      "name": "python3",
      "display_name": "Python 3"
    },
    "language_info": {
      "name": "python"
    }
  },
  "cells": [
    {
      "cell_type": "code",
      "execution_count": 1,
      "metadata": {
        "colab": {
          "base_uri": "https://localhost:8080/"
        },
        "id": "O3S1zTCBOtL_",
        "outputId": "0628ea25-9b13-4bb2-c025-781de97fbe03"
      },
      "outputs": [
        {
          "output_type": "stream",
          "name": "stdout",
          "text": [
            "Collecting PyMuPDF\n",
            "  Downloading pymupdf-1.26.3-cp39-abi3-manylinux_2_28_x86_64.whl.metadata (3.4 kB)\n",
            "Requirement already satisfied: pillow in /usr/local/lib/python3.11/dist-packages (11.2.1)\n",
            "Downloading pymupdf-1.26.3-cp39-abi3-manylinux_2_28_x86_64.whl (24.1 MB)\n",
            "\u001b[2K   \u001b[90m━━━━━━━━━━━━━━━━━━━━━━━━━━━━━━━━━━━━━━━━\u001b[0m \u001b[32m24.1/24.1 MB\u001b[0m \u001b[31m77.4 MB/s\u001b[0m eta \u001b[36m0:00:00\u001b[0m\n",
            "\u001b[?25hInstalling collected packages: PyMuPDF\n",
            "Successfully installed PyMuPDF-1.26.3\n"
          ]
        }
      ],
      "source": [
        "!pip install PyMuPDF pillow"
      ]
    },
    {
      "cell_type": "code",
      "source": [
        "import fitz  # PyMuPDF, our \"fizzy\" tool\n",
        "import json\n",
        "import os\n",
        "\n",
        "def is_question_start(line: str) -> bool:\n",
        "    \"\"\"\n",
        "    Checks if a line is the start of a new question without using regex.\n",
        "    Identifies patterns like \"1.\", \"2. \", \" 15. \", etc.\n",
        "    \"\"\"\n",
        "    clean_line = line.strip()\n",
        "    dot_index = clean_line.find('.')\n",
        "\n",
        "    # If there's no dot, or it's the first character, it's not a question start.\n",
        "    if dot_index <= 0:\n",
        "        return False\n",
        "\n",
        "    # Get the part before the dot\n",
        "    number_part = clean_line[:dot_index]\n",
        "\n",
        "    # Check if that part consists only of digits\n",
        "    return number_part.isdigit()\n",
        "\n",
        "def is_option_label(line: str) -> bool:\n",
        "    \"\"\"\n",
        "    Checks if a line is an option label like (A), (B), etc., without regex.\n",
        "    \"\"\"\n",
        "    clean_line = line.strip()\n",
        "    return (\n",
        "        clean_line.startswith('(') and\n",
        "        len(clean_line) >= 3 and\n",
        "        clean_line[2] == ')' and\n",
        "        'A' <= clean_line[1] <= 'Z'\n",
        "    )\n",
        "\n",
        "def extract_content(pdf_path: str, output_dir: str):\n",
        "    \"\"\"\n",
        "    Extracts text and images from a PDF, organizes them by question,\n",
        "    and saves the output in a structured JSON file.\n",
        "    ** This version does NOT use the 're' (regex) library. **\n",
        "    \"\"\"\n",
        "    # Create output directories if they don't exist\n",
        "    images_dir = os.path.join(output_dir, \"images\")\n",
        "    if not os.path.exists(images_dir):\n",
        "        os.makedirs(images_dir)\n",
        "\n",
        "    doc = fitz.open(pdf_path)\n",
        "    all_questions = []\n",
        "    current_question = None\n",
        "\n",
        "    for page_num, page in enumerate(doc):\n",
        "        # Extract images and their bounding boxes\n",
        "        image_list = page.get_images(full=True)\n",
        "        page_images = []\n",
        "        for img_index, img in enumerate(image_list):\n",
        "            xref = img[0]\n",
        "            base_image = doc.extract_image(xref)\n",
        "            image_bytes = base_image[\"image\"]\n",
        "            image_ext = base_image[\"ext\"]\n",
        "\n",
        "            img_rects = page.get_image_rects(xref)\n",
        "            if not img_rects:\n",
        "                continue\n",
        "\n",
        "            image_rect = img_rects[0]\n",
        "            image_path = os.path.join(images_dir, f\"page{page_num+1}_image{img_index+1}.{image_ext}\")\n",
        "\n",
        "            with open(image_path, \"wb\") as f:\n",
        "                f.write(image_bytes)\n",
        "\n",
        "            page_images.append({\"path\": image_path, \"rect\": image_rect})\n",
        "\n",
        "        # Extract text blocks\n",
        "        blocks = page.get_text(\"dict\", flags=11)[\"blocks\"]\n",
        "\n",
        "        # Group elements (text and images) by question\n",
        "        for block in blocks:\n",
        "            if \"lines\" in block:\n",
        "                for line in block[\"lines\"]:\n",
        "                    line_text = \"\".join([span[\"text\"] for span in line[\"spans\"]]).strip()\n",
        "                    if not line_text:\n",
        "                        continue\n",
        "\n",
        "                    # --- MODIFICATION START: Replaced regex with function call ---\n",
        "                    if is_question_start(line_text):\n",
        "                    # --- MODIFICATION END ---\n",
        "                        if current_question:\n",
        "                            all_questions.append(current_question)\n",
        "\n",
        "                        current_question = {\n",
        "                            \"question\": line_text,\n",
        "                            \"images\": \"\",\n",
        "                            \"option_images\": []\n",
        "                        }\n",
        "                    elif current_question:\n",
        "                        # --- MODIFICATION START: Replaced regex with function call ---\n",
        "                        if not is_option_label(line_text):\n",
        "                        # --- MODIFICATION END ---\n",
        "                            current_question[\"question\"] += \" \" + line_text\n",
        "\n",
        "        # Associate images with the most recently defined question\n",
        "        if current_question and page_images:\n",
        "            text_content = page.get_text()\n",
        "            has_options = any(opt in text_content for opt in ['(A)', '(B)', '(C)', '(D)'])\n",
        "\n",
        "            if not has_options or len(page_images) <= 1:\n",
        "                question_images = page_images\n",
        "                option_images = []\n",
        "            else:\n",
        "                question_images = [page_images.pop(0)]\n",
        "                option_images = page_images\n",
        "\n",
        "            if question_images:\n",
        "                current_question[\"images\"] = question_images[0][\"path\"]\n",
        "\n",
        "            if option_images:\n",
        "                current_question[\"option_images\"] = [img[\"path\"] for img in option_images]\n",
        "\n",
        "    if current_question:\n",
        "        all_questions.append(current_question)\n",
        "\n",
        "    json_path = os.path.join(output_dir, \"extracted_content.json\")\n",
        "    with open(json_path, \"w\") as f:\n",
        "        json.dump(all_questions, f, indent=4)\n",
        "\n",
        "    print(f\"Extraction complete.\")\n",
        "    print(f\"Images saved in: {images_dir}\")\n",
        "    print(f\"JSON data saved to: {json_path}\")\n",
        "\n",
        "\n",
        "if __name__ == \"__main__\":\n",
        "    PDF_FILE = \"/content/IMO class 1 Maths Olympiad Sample Paper 1 for the year 2024-25.pdf\"\n",
        "    OUTPUT_DIRECTORY = \"output_no_regex\"\n",
        "\n",
        "    if not os.path.exists(PDF_FILE):\n",
        "        print(f\"Error: The file '{PDF_FILE}' was not found.\")\n",
        "        print(\"Please make sure the PDF file is in the same directory as the script.\")\n",
        "    else:\n",
        "        extract_content(PDF_FILE, OUTPUT_DIRECTORY)"
      ],
      "metadata": {
        "colab": {
          "base_uri": "https://localhost:8080/"
        },
        "id": "FONeAIZbO7B-",
        "outputId": "c6987997-0a76-44cd-d1b5-630f5661dffc"
      },
      "execution_count": 2,
      "outputs": [
        {
          "output_type": "stream",
          "name": "stdout",
          "text": [
            "Extraction complete.\n",
            "Images saved in: output_no_regex/images\n",
            "JSON data saved to: output_no_regex/extracted_content.json\n"
          ]
        }
      ]
    },
    {
      "cell_type": "code",
      "source": [],
      "metadata": {
        "id": "LI6p9-WlPcIy"
      },
      "execution_count": null,
      "outputs": []
    }
  ]
}